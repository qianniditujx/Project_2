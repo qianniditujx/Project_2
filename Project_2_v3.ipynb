{
  "nbformat": 4,
  "nbformat_minor": 0,
  "metadata": {
    "colab": {
      "provenance": [],
      "machine_shape": "hm"
    },
    "kernelspec": {
      "name": "python3",
      "display_name": "Python 3"
    },
    "language_info": {
      "name": "python"
    },
    "gpuClass": "standard",
    "accelerator": "GPU"
  },
  "cells": [
    {
      "cell_type": "code",
      "execution_count": null,
      "metadata": {
        "id": "_6xzV7IiegLt"
      },
      "outputs": [],
      "source": []
    },
    {
      "cell_type": "code",
      "source": [
        "# authenticate with the google account used in console\n",
        "from google.colab import auth\n",
        "auth.authenticate_user()"
      ],
      "metadata": {
        "id": "AmDluM8wehpW"
      },
      "execution_count": null,
      "outputs": []
    },
    {
      "cell_type": "code",
      "source": [
        "import pandas as pd\n",
        "project_id = 'emerald-ellipse-380023'"
      ],
      "metadata": {
        "id": "mx66Z6e9ehru"
      },
      "execution_count": null,
      "outputs": []
    },
    {
      "cell_type": "code",
      "source": [
        "# Load all tables\n",
        "def load_table(table_name):\n",
        "    sql = f\"SELECT * FROM `bigquery-public-data.thelook_ecommerce.{table_name}`\"\n",
        "    return pd.io.gbq.read_gbq(sql, project_id=project_id)\n",
        "\n",
        "users = load_table('users')\n",
        "products = load_table('products')\n",
        "orders = load_table('orders')\n",
        "order_items = load_table('order_items')\n",
        "inventory_items = load_table('inventory_items')\n",
        "events = load_table('events')\n",
        "distribution_centers = load_table('distribution_centers')"
      ],
      "metadata": {
        "id": "kp_3GAEEehu_"
      },
      "execution_count": null,
      "outputs": []
    },
    {
      "cell_type": "code",
      "source": [
        "# Merge the relevant tables\n",
        "orders_items_merged = pd.merge(orders, order_items, on='order_id', suffixes=('_orders', '_order_items'))\n",
        "orders_users_merged = pd.merge(orders_items_merged, users, left_on='user_id_orders', right_on='id', suffixes=('_orders', '_users'))\n",
        "full_data = pd.merge(orders_users_merged, products, left_on='product_id', right_on='id', suffixes=('_orders', '_products'))"
      ],
      "metadata": {
        "id": "Z7JO3DmXehwk"
      },
      "execution_count": null,
      "outputs": []
    },
    {
      "cell_type": "code",
      "source": [
        "# full_data.head().T\n"
      ],
      "metadata": {
        "id": "DksQmV9OgsaZ"
      },
      "execution_count": null,
      "outputs": []
    },
    {
      "cell_type": "code",
      "source": [
        "# Drop redundant columns\n",
        "columns_to_drop = [\n",
        "     'id_orders', 'id_users',  'id',\n",
        "    'user_id_order_items', 'inventory_item_id', 'status_order_items', 'created_at_order_items',\n",
        "    'shipped_at_order_items', 'delivered_at_order_items', 'returned_at_order_items', 'status_orders'\n",
        "]\n",
        "\n",
        "full_data = full_data.drop(columns=columns_to_drop)\n"
      ],
      "metadata": {
        "id": "jvyk6XfDhNNR"
      },
      "execution_count": null,
      "outputs": []
    },
    {
      "cell_type": "code",
      "source": [
        "# Rename columns for clarity\n",
        "column_names = {\n",
        "    'user_id_orders': 'user_id',\n",
        "    'gender_orders': 'gender',\n",
        "    'created_at_orders': 'order_created_at',\n",
        "    'returned_at_orders': 'order_returned_at',\n",
        "    'shipped_at_orders': 'order_shipped_at',\n",
        "    'delivered_at_orders': 'order_delivered_at',\n",
        "    'gender_users': 'gender',\n",
        "}\n",
        "\n",
        "full_data = full_data.rename(columns=column_names)"
      ],
      "metadata": {
        "id": "uGtytge1eh0u"
      },
      "execution_count": null,
      "outputs": []
    },
    {
      "cell_type": "code",
      "source": [
        "# Calculate the total spent, total orders, and total returns per user\n",
        "user_behavior = full_data.groupby('user_id').agg({'sale_price': ['sum', 'count'], 'order_returned_at': lambda x: x.notnull().sum()}).reset_index()\n",
        "user_behavior.columns = ['user_id', 'total_spent', 'total_orders', 'total_returns']"
      ],
      "metadata": {
        "id": "cEXAHS0Feh2w"
      },
      "execution_count": null,
      "outputs": []
    },
    {
      "cell_type": "code",
      "source": [],
      "metadata": {
        "id": "nTdgi_wvi9CY"
      },
      "execution_count": null,
      "outputs": []
    },
    {
      "cell_type": "code",
      "source": [
        "# Print the resulting DataFrame\n",
        "print(user_behavior)"
      ],
      "metadata": {
        "colab": {
          "base_uri": "https://localhost:8080/"
        },
        "id": "4oM_pG2ye9oj",
        "outputId": "96ca8a31-999b-406f-8b2e-608735c31ab0"
      },
      "execution_count": null,
      "outputs": [
        {
          "output_type": "stream",
          "name": "stdout",
          "text": [
            "       user_id  total_spent  total_orders  total_returns\n",
            "0            1   181.710003             2              0\n",
            "1            2    75.809998             1              0\n",
            "2            3   513.990005             6              0\n",
            "3            4    32.000000             1              0\n",
            "4            5   180.650000             4              0\n",
            "...        ...          ...           ...            ...\n",
            "79738    99993    34.000000             1              0\n",
            "79739    99994    26.500000             1              1\n",
            "79740    99998    84.590000             4              0\n",
            "79741    99999    92.689999             2              0\n",
            "79742   100000    24.990000             1              0\n",
            "\n",
            "[79743 rows x 4 columns]\n"
          ]
        }
      ]
    },
    {
      "cell_type": "code",
      "source": [],
      "metadata": {
        "id": "j2dheUW7e9q6"
      },
      "execution_count": null,
      "outputs": []
    },
    {
      "cell_type": "code",
      "source": [
        "# Calculate the total spent, total orders, and total returns per user\n",
        "user_order_items = full_data.groupby('product_id').agg({'sale_price': ['sum', 'count'], 'order_returned_at': lambda x: x.notnull().sum()}).reset_index()\n",
        "user_order_items.columns = ['product_id', 'total_spent', 'total_orders', 'total_returns']"
      ],
      "metadata": {
        "id": "j1TOiSnTe9tj"
      },
      "execution_count": null,
      "outputs": []
    },
    {
      "cell_type": "code",
      "source": [
        "user_order_items.sort_values(by='total_spent')"
      ],
      "metadata": {
        "colab": {
          "base_uri": "https://localhost:8080/",
          "height": 423
        },
        "id": "HkaaALCVe9vX",
        "outputId": "fd3fcbff-1964-4327-f2d6-f2c437e49ae3"
      },
      "execution_count": null,
      "outputs": [
        {
          "output_type": "execute_result",
          "data": {
            "text/plain": [
              "       product_id  total_spent  total_orders  total_returns\n",
              "14184       14235         0.04             2              1\n",
              "12580       12625         4.33             1              0\n",
              "14151       14202         4.50             3              0\n",
              "28733       28803         4.97             1              0\n",
              "5896         5917         4.99             1              0\n",
              "...           ...          ...           ...            ...\n",
              "24379       24447      8991.00             9              2\n",
              "23580       23648     10836.00            12              1\n",
              "24273       24341     11400.00            12              0\n",
              "24133       24201     11739.00            13              0\n",
              "2550         2559     11739.00            13              1\n",
              "\n",
              "[29051 rows x 4 columns]"
            ],
            "text/html": [
              "\n",
              "  <div id=\"df-220b5c43-e9c1-43bd-8d80-5af1dec270dd\">\n",
              "    <div class=\"colab-df-container\">\n",
              "      <div>\n",
              "<style scoped>\n",
              "    .dataframe tbody tr th:only-of-type {\n",
              "        vertical-align: middle;\n",
              "    }\n",
              "\n",
              "    .dataframe tbody tr th {\n",
              "        vertical-align: top;\n",
              "    }\n",
              "\n",
              "    .dataframe thead th {\n",
              "        text-align: right;\n",
              "    }\n",
              "</style>\n",
              "<table border=\"1\" class=\"dataframe\">\n",
              "  <thead>\n",
              "    <tr style=\"text-align: right;\">\n",
              "      <th></th>\n",
              "      <th>product_id</th>\n",
              "      <th>total_spent</th>\n",
              "      <th>total_orders</th>\n",
              "      <th>total_returns</th>\n",
              "    </tr>\n",
              "  </thead>\n",
              "  <tbody>\n",
              "    <tr>\n",
              "      <th>14184</th>\n",
              "      <td>14235</td>\n",
              "      <td>0.04</td>\n",
              "      <td>2</td>\n",
              "      <td>1</td>\n",
              "    </tr>\n",
              "    <tr>\n",
              "      <th>12580</th>\n",
              "      <td>12625</td>\n",
              "      <td>4.33</td>\n",
              "      <td>1</td>\n",
              "      <td>0</td>\n",
              "    </tr>\n",
              "    <tr>\n",
              "      <th>14151</th>\n",
              "      <td>14202</td>\n",
              "      <td>4.50</td>\n",
              "      <td>3</td>\n",
              "      <td>0</td>\n",
              "    </tr>\n",
              "    <tr>\n",
              "      <th>28733</th>\n",
              "      <td>28803</td>\n",
              "      <td>4.97</td>\n",
              "      <td>1</td>\n",
              "      <td>0</td>\n",
              "    </tr>\n",
              "    <tr>\n",
              "      <th>5896</th>\n",
              "      <td>5917</td>\n",
              "      <td>4.99</td>\n",
              "      <td>1</td>\n",
              "      <td>0</td>\n",
              "    </tr>\n",
              "    <tr>\n",
              "      <th>...</th>\n",
              "      <td>...</td>\n",
              "      <td>...</td>\n",
              "      <td>...</td>\n",
              "      <td>...</td>\n",
              "    </tr>\n",
              "    <tr>\n",
              "      <th>24379</th>\n",
              "      <td>24447</td>\n",
              "      <td>8991.00</td>\n",
              "      <td>9</td>\n",
              "      <td>2</td>\n",
              "    </tr>\n",
              "    <tr>\n",
              "      <th>23580</th>\n",
              "      <td>23648</td>\n",
              "      <td>10836.00</td>\n",
              "      <td>12</td>\n",
              "      <td>1</td>\n",
              "    </tr>\n",
              "    <tr>\n",
              "      <th>24273</th>\n",
              "      <td>24341</td>\n",
              "      <td>11400.00</td>\n",
              "      <td>12</td>\n",
              "      <td>0</td>\n",
              "    </tr>\n",
              "    <tr>\n",
              "      <th>24133</th>\n",
              "      <td>24201</td>\n",
              "      <td>11739.00</td>\n",
              "      <td>13</td>\n",
              "      <td>0</td>\n",
              "    </tr>\n",
              "    <tr>\n",
              "      <th>2550</th>\n",
              "      <td>2559</td>\n",
              "      <td>11739.00</td>\n",
              "      <td>13</td>\n",
              "      <td>1</td>\n",
              "    </tr>\n",
              "  </tbody>\n",
              "</table>\n",
              "<p>29051 rows × 4 columns</p>\n",
              "</div>\n",
              "      <button class=\"colab-df-convert\" onclick=\"convertToInteractive('df-220b5c43-e9c1-43bd-8d80-5af1dec270dd')\"\n",
              "              title=\"Convert this dataframe to an interactive table.\"\n",
              "              style=\"display:none;\">\n",
              "        \n",
              "  <svg xmlns=\"http://www.w3.org/2000/svg\" height=\"24px\"viewBox=\"0 0 24 24\"\n",
              "       width=\"24px\">\n",
              "    <path d=\"M0 0h24v24H0V0z\" fill=\"none\"/>\n",
              "    <path d=\"M18.56 5.44l.94 2.06.94-2.06 2.06-.94-2.06-.94-.94-2.06-.94 2.06-2.06.94zm-11 1L8.5 8.5l.94-2.06 2.06-.94-2.06-.94L8.5 2.5l-.94 2.06-2.06.94zm10 10l.94 2.06.94-2.06 2.06-.94-2.06-.94-.94-2.06-.94 2.06-2.06.94z\"/><path d=\"M17.41 7.96l-1.37-1.37c-.4-.4-.92-.59-1.43-.59-.52 0-1.04.2-1.43.59L10.3 9.45l-7.72 7.72c-.78.78-.78 2.05 0 2.83L4 21.41c.39.39.9.59 1.41.59.51 0 1.02-.2 1.41-.59l7.78-7.78 2.81-2.81c.8-.78.8-2.07 0-2.86zM5.41 20L4 18.59l7.72-7.72 1.47 1.35L5.41 20z\"/>\n",
              "  </svg>\n",
              "      </button>\n",
              "      \n",
              "  <style>\n",
              "    .colab-df-container {\n",
              "      display:flex;\n",
              "      flex-wrap:wrap;\n",
              "      gap: 12px;\n",
              "    }\n",
              "\n",
              "    .colab-df-convert {\n",
              "      background-color: #E8F0FE;\n",
              "      border: none;\n",
              "      border-radius: 50%;\n",
              "      cursor: pointer;\n",
              "      display: none;\n",
              "      fill: #1967D2;\n",
              "      height: 32px;\n",
              "      padding: 0 0 0 0;\n",
              "      width: 32px;\n",
              "    }\n",
              "\n",
              "    .colab-df-convert:hover {\n",
              "      background-color: #E2EBFA;\n",
              "      box-shadow: 0px 1px 2px rgba(60, 64, 67, 0.3), 0px 1px 3px 1px rgba(60, 64, 67, 0.15);\n",
              "      fill: #174EA6;\n",
              "    }\n",
              "\n",
              "    [theme=dark] .colab-df-convert {\n",
              "      background-color: #3B4455;\n",
              "      fill: #D2E3FC;\n",
              "    }\n",
              "\n",
              "    [theme=dark] .colab-df-convert:hover {\n",
              "      background-color: #434B5C;\n",
              "      box-shadow: 0px 1px 3px 1px rgba(0, 0, 0, 0.15);\n",
              "      filter: drop-shadow(0px 1px 2px rgba(0, 0, 0, 0.3));\n",
              "      fill: #FFFFFF;\n",
              "    }\n",
              "  </style>\n",
              "\n",
              "      <script>\n",
              "        const buttonEl =\n",
              "          document.querySelector('#df-220b5c43-e9c1-43bd-8d80-5af1dec270dd button.colab-df-convert');\n",
              "        buttonEl.style.display =\n",
              "          google.colab.kernel.accessAllowed ? 'block' : 'none';\n",
              "\n",
              "        async function convertToInteractive(key) {\n",
              "          const element = document.querySelector('#df-220b5c43-e9c1-43bd-8d80-5af1dec270dd');\n",
              "          const dataTable =\n",
              "            await google.colab.kernel.invokeFunction('convertToInteractive',\n",
              "                                                     [key], {});\n",
              "          if (!dataTable) return;\n",
              "\n",
              "          const docLinkHtml = 'Like what you see? Visit the ' +\n",
              "            '<a target=\"_blank\" href=https://colab.research.google.com/notebooks/data_table.ipynb>data table notebook</a>'\n",
              "            + ' to learn more about interactive tables.';\n",
              "          element.innerHTML = '';\n",
              "          dataTable['output_type'] = 'display_data';\n",
              "          await google.colab.output.renderOutput(dataTable, element);\n",
              "          const docLink = document.createElement('div');\n",
              "          docLink.innerHTML = docLinkHtml;\n",
              "          element.appendChild(docLink);\n",
              "        }\n",
              "      </script>\n",
              "    </div>\n",
              "  </div>\n",
              "  "
            ]
          },
          "metadata": {},
          "execution_count": 11
        }
      ]
    },
    {
      "cell_type": "code",
      "source": [
        "user_order_items['total_spent'].quantile(q=0.2)"
      ],
      "metadata": {
        "colab": {
          "base_uri": "https://localhost:8080/"
        },
        "id": "EKp87W4smtvK",
        "outputId": "eee41e95-dbf3-4d34-ae27-f24ce2dd8d9f"
      },
      "execution_count": null,
      "outputs": [
        {
          "output_type": "execute_result",
          "data": {
            "text/plain": [
              "100.0"
            ]
          },
          "metadata": {},
          "execution_count": 12
        }
      ]
    },
    {
      "cell_type": "code",
      "source": [
        "item_to_cut_id = user_order_items[user_order_items['total_spent']<100]['product_id']"
      ],
      "metadata": {
        "id": "sdpxrzHgmtyK"
      },
      "execution_count": null,
      "outputs": []
    },
    {
      "cell_type": "code",
      "source": [
        "print(item_to_cut_id)"
      ],
      "metadata": {
        "colab": {
          "base_uri": "https://localhost:8080/"
        },
        "id": "Oy8Uf3vUrO7p",
        "outputId": "a688d5ec-2ed6-474b-b03d-879924354208"
      },
      "execution_count": null,
      "outputs": [
        {
          "output_type": "stream",
          "name": "stdout",
          "text": [
            "1            2\n",
            "2            3\n",
            "17          18\n",
            "23          24\n",
            "25          26\n",
            "         ...  \n",
            "29034    29104\n",
            "29037    29107\n",
            "29039    29109\n",
            "29040    29110\n",
            "29042    29112\n",
            "Name: product_id, Length: 5681, dtype: Int64\n"
          ]
        }
      ]
    },
    {
      "cell_type": "code",
      "source": [
        "item_to_cut = products[products['id'].isin(item_to_cut_id)]"
      ],
      "metadata": {
        "id": "wxJWGvHJsOHD"
      },
      "execution_count": null,
      "outputs": []
    },
    {
      "cell_type": "code",
      "source": [
        "# 20% inventory to cut\n",
        "\n",
        "item_to_cut"
      ],
      "metadata": {
        "colab": {
          "base_uri": "https://localhost:8080/",
          "height": 973
        },
        "id": "U5itWPensOJX",
        "outputId": "58a4bee5-c8f9-4364-f30f-85ce1c27a7f7"
      },
      "execution_count": null,
      "outputs": [
        {
          "output_type": "execute_result",
          "data": {
            "text/plain": [
              "          id       cost                       category  \\\n",
              "2      27457  15.897600                           Swim   \n",
              "3      27466  17.850000                           Swim   \n",
              "50     27813  23.639609                           Swim   \n",
              "53     27834  13.134750                           Swim   \n",
              "107    27596   8.534600                           Swim   \n",
              "...      ...        ...                            ...   \n",
              "29048   2384  13.765410  Fashion Hoodies & Sweatshirts   \n",
              "29076   2195  24.128000  Fashion Hoodies & Sweatshirts   \n",
              "29097   2071  11.343500  Fashion Hoodies & Sweatshirts   \n",
              "29102   2068   7.808250  Fashion Hoodies & Sweatshirts   \n",
              "29117   2308   9.028020  Fashion Hoodies & Sweatshirts   \n",
              "\n",
              "                                                    name           brand  \\\n",
              "2        TYR Sport Men's Solid Durafast Jammer Swim Suit             TYR   \n",
              "3      TYR Sport Men's Swim Short/Resistance Short Sw...             TYR   \n",
              "50               Hurley Men's Copy Supersuede Boardshort          Hurley   \n",
              "53      Hurley Blue Orange and Gray Stagger Board Shorts          Hurley   \n",
              "107    New Men's Sexy Center Patch Bikini Swimsuit 3G...     Gregg Homme   \n",
              "...                                                  ...             ...   \n",
              "29048                         Quiksilver Original Hoodie      Quiksilver   \n",
              "29076  Life is good. Womens Softwash Crew - LIG - Aqu...    Life Is Good   \n",
              "29097    VANCL Women Contrast Zipper Polar Fleece Hoodie           VANCL   \n",
              "29102           Rafaella Oversized Collar V-neck Sweater        Rafaella   \n",
              "29117  Comfort Colors by Chouinard Women's Drawstring...  Comfort Colors   \n",
              "\n",
              "       retail_price department                               sku  \\\n",
              "2         27.600000        Men  8F831227B0EB6C6D09A0555531365933   \n",
              "3         30.000000        Men  67317D6DCC4CB778AEB9219565F5456B   \n",
              "50        38.189999        Men  FC2208D8522B90CF01368D83DBFE9906   \n",
              "53        20.750000        Men  235A4B01CCA43EAD1A2435EC19C04BAB   \n",
              "107       13.900000        Men  04D81FCED5C98DD0927231751561D1FE   \n",
              "...             ...        ...                               ...   \n",
              "29048     29.990000      Women  EA159DC9788FFAC311592613B7F71FBB   \n",
              "29076     52.000000      Women  8C5F6ECD29A0EB234459190CA51C16DD   \n",
              "29097     24.500000      Women  FB2E203234DF6DEE15934E448EE88971   \n",
              "29102     17.950001      Women  814A9C18F5ABFF398787C9CFCBF3D80C   \n",
              "29117     18.020000      Women  E58AEA67B01FA747687F038DFDE066F6   \n",
              "\n",
              "       distribution_center_id  \n",
              "2                           1  \n",
              "3                           1  \n",
              "50                          1  \n",
              "53                          1  \n",
              "107                         1  \n",
              "...                       ...  \n",
              "29048                       9  \n",
              "29076                       9  \n",
              "29097                      10  \n",
              "29102                      10  \n",
              "29117                      10  \n",
              "\n",
              "[5681 rows x 9 columns]"
            ],
            "text/html": [
              "\n",
              "  <div id=\"df-c23f581b-0b7d-4f7e-b257-62482c21be01\">\n",
              "    <div class=\"colab-df-container\">\n",
              "      <div>\n",
              "<style scoped>\n",
              "    .dataframe tbody tr th:only-of-type {\n",
              "        vertical-align: middle;\n",
              "    }\n",
              "\n",
              "    .dataframe tbody tr th {\n",
              "        vertical-align: top;\n",
              "    }\n",
              "\n",
              "    .dataframe thead th {\n",
              "        text-align: right;\n",
              "    }\n",
              "</style>\n",
              "<table border=\"1\" class=\"dataframe\">\n",
              "  <thead>\n",
              "    <tr style=\"text-align: right;\">\n",
              "      <th></th>\n",
              "      <th>id</th>\n",
              "      <th>cost</th>\n",
              "      <th>category</th>\n",
              "      <th>name</th>\n",
              "      <th>brand</th>\n",
              "      <th>retail_price</th>\n",
              "      <th>department</th>\n",
              "      <th>sku</th>\n",
              "      <th>distribution_center_id</th>\n",
              "    </tr>\n",
              "  </thead>\n",
              "  <tbody>\n",
              "    <tr>\n",
              "      <th>2</th>\n",
              "      <td>27457</td>\n",
              "      <td>15.897600</td>\n",
              "      <td>Swim</td>\n",
              "      <td>TYR Sport Men's Solid Durafast Jammer Swim Suit</td>\n",
              "      <td>TYR</td>\n",
              "      <td>27.600000</td>\n",
              "      <td>Men</td>\n",
              "      <td>8F831227B0EB6C6D09A0555531365933</td>\n",
              "      <td>1</td>\n",
              "    </tr>\n",
              "    <tr>\n",
              "      <th>3</th>\n",
              "      <td>27466</td>\n",
              "      <td>17.850000</td>\n",
              "      <td>Swim</td>\n",
              "      <td>TYR Sport Men's Swim Short/Resistance Short Sw...</td>\n",
              "      <td>TYR</td>\n",
              "      <td>30.000000</td>\n",
              "      <td>Men</td>\n",
              "      <td>67317D6DCC4CB778AEB9219565F5456B</td>\n",
              "      <td>1</td>\n",
              "    </tr>\n",
              "    <tr>\n",
              "      <th>50</th>\n",
              "      <td>27813</td>\n",
              "      <td>23.639609</td>\n",
              "      <td>Swim</td>\n",
              "      <td>Hurley Men's Copy Supersuede Boardshort</td>\n",
              "      <td>Hurley</td>\n",
              "      <td>38.189999</td>\n",
              "      <td>Men</td>\n",
              "      <td>FC2208D8522B90CF01368D83DBFE9906</td>\n",
              "      <td>1</td>\n",
              "    </tr>\n",
              "    <tr>\n",
              "      <th>53</th>\n",
              "      <td>27834</td>\n",
              "      <td>13.134750</td>\n",
              "      <td>Swim</td>\n",
              "      <td>Hurley Blue Orange and Gray Stagger Board Shorts</td>\n",
              "      <td>Hurley</td>\n",
              "      <td>20.750000</td>\n",
              "      <td>Men</td>\n",
              "      <td>235A4B01CCA43EAD1A2435EC19C04BAB</td>\n",
              "      <td>1</td>\n",
              "    </tr>\n",
              "    <tr>\n",
              "      <th>107</th>\n",
              "      <td>27596</td>\n",
              "      <td>8.534600</td>\n",
              "      <td>Swim</td>\n",
              "      <td>New Men's Sexy Center Patch Bikini Swimsuit 3G...</td>\n",
              "      <td>Gregg Homme</td>\n",
              "      <td>13.900000</td>\n",
              "      <td>Men</td>\n",
              "      <td>04D81FCED5C98DD0927231751561D1FE</td>\n",
              "      <td>1</td>\n",
              "    </tr>\n",
              "    <tr>\n",
              "      <th>...</th>\n",
              "      <td>...</td>\n",
              "      <td>...</td>\n",
              "      <td>...</td>\n",
              "      <td>...</td>\n",
              "      <td>...</td>\n",
              "      <td>...</td>\n",
              "      <td>...</td>\n",
              "      <td>...</td>\n",
              "      <td>...</td>\n",
              "    </tr>\n",
              "    <tr>\n",
              "      <th>29048</th>\n",
              "      <td>2384</td>\n",
              "      <td>13.765410</td>\n",
              "      <td>Fashion Hoodies &amp; Sweatshirts</td>\n",
              "      <td>Quiksilver Original Hoodie</td>\n",
              "      <td>Quiksilver</td>\n",
              "      <td>29.990000</td>\n",
              "      <td>Women</td>\n",
              "      <td>EA159DC9788FFAC311592613B7F71FBB</td>\n",
              "      <td>9</td>\n",
              "    </tr>\n",
              "    <tr>\n",
              "      <th>29076</th>\n",
              "      <td>2195</td>\n",
              "      <td>24.128000</td>\n",
              "      <td>Fashion Hoodies &amp; Sweatshirts</td>\n",
              "      <td>Life is good. Womens Softwash Crew - LIG - Aqu...</td>\n",
              "      <td>Life Is Good</td>\n",
              "      <td>52.000000</td>\n",
              "      <td>Women</td>\n",
              "      <td>8C5F6ECD29A0EB234459190CA51C16DD</td>\n",
              "      <td>9</td>\n",
              "    </tr>\n",
              "    <tr>\n",
              "      <th>29097</th>\n",
              "      <td>2071</td>\n",
              "      <td>11.343500</td>\n",
              "      <td>Fashion Hoodies &amp; Sweatshirts</td>\n",
              "      <td>VANCL Women Contrast Zipper Polar Fleece Hoodie</td>\n",
              "      <td>VANCL</td>\n",
              "      <td>24.500000</td>\n",
              "      <td>Women</td>\n",
              "      <td>FB2E203234DF6DEE15934E448EE88971</td>\n",
              "      <td>10</td>\n",
              "    </tr>\n",
              "    <tr>\n",
              "      <th>29102</th>\n",
              "      <td>2068</td>\n",
              "      <td>7.808250</td>\n",
              "      <td>Fashion Hoodies &amp; Sweatshirts</td>\n",
              "      <td>Rafaella Oversized Collar V-neck Sweater</td>\n",
              "      <td>Rafaella</td>\n",
              "      <td>17.950001</td>\n",
              "      <td>Women</td>\n",
              "      <td>814A9C18F5ABFF398787C9CFCBF3D80C</td>\n",
              "      <td>10</td>\n",
              "    </tr>\n",
              "    <tr>\n",
              "      <th>29117</th>\n",
              "      <td>2308</td>\n",
              "      <td>9.028020</td>\n",
              "      <td>Fashion Hoodies &amp; Sweatshirts</td>\n",
              "      <td>Comfort Colors by Chouinard Women's Drawstring...</td>\n",
              "      <td>Comfort Colors</td>\n",
              "      <td>18.020000</td>\n",
              "      <td>Women</td>\n",
              "      <td>E58AEA67B01FA747687F038DFDE066F6</td>\n",
              "      <td>10</td>\n",
              "    </tr>\n",
              "  </tbody>\n",
              "</table>\n",
              "<p>5681 rows × 9 columns</p>\n",
              "</div>\n",
              "      <button class=\"colab-df-convert\" onclick=\"convertToInteractive('df-c23f581b-0b7d-4f7e-b257-62482c21be01')\"\n",
              "              title=\"Convert this dataframe to an interactive table.\"\n",
              "              style=\"display:none;\">\n",
              "        \n",
              "  <svg xmlns=\"http://www.w3.org/2000/svg\" height=\"24px\"viewBox=\"0 0 24 24\"\n",
              "       width=\"24px\">\n",
              "    <path d=\"M0 0h24v24H0V0z\" fill=\"none\"/>\n",
              "    <path d=\"M18.56 5.44l.94 2.06.94-2.06 2.06-.94-2.06-.94-.94-2.06-.94 2.06-2.06.94zm-11 1L8.5 8.5l.94-2.06 2.06-.94-2.06-.94L8.5 2.5l-.94 2.06-2.06.94zm10 10l.94 2.06.94-2.06 2.06-.94-2.06-.94-.94-2.06-.94 2.06-2.06.94z\"/><path d=\"M17.41 7.96l-1.37-1.37c-.4-.4-.92-.59-1.43-.59-.52 0-1.04.2-1.43.59L10.3 9.45l-7.72 7.72c-.78.78-.78 2.05 0 2.83L4 21.41c.39.39.9.59 1.41.59.51 0 1.02-.2 1.41-.59l7.78-7.78 2.81-2.81c.8-.78.8-2.07 0-2.86zM5.41 20L4 18.59l7.72-7.72 1.47 1.35L5.41 20z\"/>\n",
              "  </svg>\n",
              "      </button>\n",
              "      \n",
              "  <style>\n",
              "    .colab-df-container {\n",
              "      display:flex;\n",
              "      flex-wrap:wrap;\n",
              "      gap: 12px;\n",
              "    }\n",
              "\n",
              "    .colab-df-convert {\n",
              "      background-color: #E8F0FE;\n",
              "      border: none;\n",
              "      border-radius: 50%;\n",
              "      cursor: pointer;\n",
              "      display: none;\n",
              "      fill: #1967D2;\n",
              "      height: 32px;\n",
              "      padding: 0 0 0 0;\n",
              "      width: 32px;\n",
              "    }\n",
              "\n",
              "    .colab-df-convert:hover {\n",
              "      background-color: #E2EBFA;\n",
              "      box-shadow: 0px 1px 2px rgba(60, 64, 67, 0.3), 0px 1px 3px 1px rgba(60, 64, 67, 0.15);\n",
              "      fill: #174EA6;\n",
              "    }\n",
              "\n",
              "    [theme=dark] .colab-df-convert {\n",
              "      background-color: #3B4455;\n",
              "      fill: #D2E3FC;\n",
              "    }\n",
              "\n",
              "    [theme=dark] .colab-df-convert:hover {\n",
              "      background-color: #434B5C;\n",
              "      box-shadow: 0px 1px 3px 1px rgba(0, 0, 0, 0.15);\n",
              "      filter: drop-shadow(0px 1px 2px rgba(0, 0, 0, 0.3));\n",
              "      fill: #FFFFFF;\n",
              "    }\n",
              "  </style>\n",
              "\n",
              "      <script>\n",
              "        const buttonEl =\n",
              "          document.querySelector('#df-c23f581b-0b7d-4f7e-b257-62482c21be01 button.colab-df-convert');\n",
              "        buttonEl.style.display =\n",
              "          google.colab.kernel.accessAllowed ? 'block' : 'none';\n",
              "\n",
              "        async function convertToInteractive(key) {\n",
              "          const element = document.querySelector('#df-c23f581b-0b7d-4f7e-b257-62482c21be01');\n",
              "          const dataTable =\n",
              "            await google.colab.kernel.invokeFunction('convertToInteractive',\n",
              "                                                     [key], {});\n",
              "          if (!dataTable) return;\n",
              "\n",
              "          const docLinkHtml = 'Like what you see? Visit the ' +\n",
              "            '<a target=\"_blank\" href=https://colab.research.google.com/notebooks/data_table.ipynb>data table notebook</a>'\n",
              "            + ' to learn more about interactive tables.';\n",
              "          element.innerHTML = '';\n",
              "          dataTable['output_type'] = 'display_data';\n",
              "          await google.colab.output.renderOutput(dataTable, element);\n",
              "          const docLink = document.createElement('div');\n",
              "          docLink.innerHTML = docLinkHtml;\n",
              "          element.appendChild(docLink);\n",
              "        }\n",
              "      </script>\n",
              "    </div>\n",
              "  </div>\n",
              "  "
            ]
          },
          "metadata": {},
          "execution_count": 16
        }
      ]
    },
    {
      "cell_type": "code",
      "source": [],
      "metadata": {
        "id": "rT0r7m02sOLl"
      },
      "execution_count": null,
      "outputs": []
    },
    {
      "cell_type": "code",
      "source": [
        "#full_data.columns"
      ],
      "metadata": {
        "id": "ZBASmalhvjdR"
      },
      "execution_count": null,
      "outputs": []
    },
    {
      "cell_type": "code",
      "source": [
        "user_country = pd.get_dummies(users['country'],prefix='country')"
      ],
      "metadata": {
        "id": "J6wT35Ilx79Z"
      },
      "execution_count": null,
      "outputs": []
    },
    {
      "cell_type": "code",
      "source": [
        "user_gender = pd.get_dummies(users['gender'],prefix='sex')"
      ],
      "metadata": {
        "id": "mKBKuUmcvjgK"
      },
      "execution_count": null,
      "outputs": []
    },
    {
      "cell_type": "code",
      "source": [
        "user_age = pd.get_dummies(pd.qcut(users['age'], q = 5, labels = range(5)),prefix='age')"
      ],
      "metadata": {
        "id": "A5UD9IBHvjim"
      },
      "execution_count": null,
      "outputs": []
    },
    {
      "cell_type": "code",
      "source": [
        "user_categories = pd.get_dummies(full_data['category'],prefix='cat')"
      ],
      "metadata": {
        "id": "6c2AedNfvjlH"
      },
      "execution_count": null,
      "outputs": []
    },
    {
      "cell_type": "code",
      "source": [
        "user_traffic = pd.get_dummies(users['traffic_source'],prefix='traffic')"
      ],
      "metadata": {
        "id": "JU8bHGlPvjny"
      },
      "execution_count": null,
      "outputs": []
    },
    {
      "cell_type": "code",
      "source": [
        "product_price = pd.get_dummies(pd.qcut(products['retail_price'], q = 5, labels = ['low','low-medium','medium','medium-high', 'high']),prefix='product_price')"
      ],
      "metadata": {
        "id": "pP_nd6Xfvj4H"
      },
      "execution_count": null,
      "outputs": []
    },
    {
      "cell_type": "code",
      "source": [
        "# product_brand = pd.get_dummies(products['brand'],prefix='brand')"
      ],
      "metadata": {
        "id": "MQTH-VjP0JI5"
      },
      "execution_count": null,
      "outputs": []
    },
    {
      "cell_type": "code",
      "source": [
        "user_behavior_price = pd.get_dummies(pd.qcut(user_behavior['total_spent'], q = 5, labels = ['low','low-medium','medium','medium-high', 'high']),prefix='user_spent')"
      ],
      "metadata": {
        "id": "6Ybt9Q-M0JLR"
      },
      "execution_count": null,
      "outputs": []
    },
    {
      "cell_type": "code",
      "source": [
        "user_behavior_returns = pd.get_dummies(user_behavior['total_returns'],prefix='returns')"
      ],
      "metadata": {
        "id": "8IzH_vFg48e7"
      },
      "execution_count": null,
      "outputs": []
    },
    {
      "cell_type": "code",
      "source": [
        "#Combine data\n",
        "\n",
        "dfs = [  \n",
        "       user_country,\n",
        "       user_gender,\n",
        "       user_age,\n",
        "       user_categories,\n",
        "       user_traffic,\n",
        "       product_price,\n",
        "       user_behavior_price,\n",
        "       user_behavior_returns\n",
        "       ]\n",
        "for df in dfs:\n",
        "  print(df.shape)"
      ],
      "metadata": {
        "colab": {
          "base_uri": "https://localhost:8080/"
        },
        "id": "FHpzNRvj0JNy",
        "outputId": "a6f8fce0-f082-4c17-b800-0a6184960736"
      },
      "execution_count": null,
      "outputs": [
        {
          "output_type": "stream",
          "name": "stdout",
          "text": [
            "(100000, 16)\n",
            "(100000, 2)\n",
            "(100000, 5)\n",
            "(180284, 26)\n",
            "(100000, 5)\n",
            "(29120, 5)\n",
            "(79743, 5)\n",
            "(79743, 8)\n"
          ]
        }
      ]
    },
    {
      "cell_type": "code",
      "source": [
        "user_all = user_categories.join(user_country,how='left').\\\n",
        "join(user_gender,how='left').join(user_age).join(user_traffic).\\\n",
        "join(product_price,how='left').\\\n",
        "join(user_behavior_price,how='left').\\\n",
        "join(user_behavior_returns,how='left')"
      ],
      "metadata": {
        "id": "eiJJMXMc0JR1"
      },
      "execution_count": null,
      "outputs": []
    },
    {
      "cell_type": "code",
      "source": [
        "user_all.shape"
      ],
      "metadata": {
        "colab": {
          "base_uri": "https://localhost:8080/"
        },
        "id": "J6_1UvCD0JVG",
        "outputId": "3eb0576c-55c2-41e9-b2a1-047d87cfacb4"
      },
      "execution_count": null,
      "outputs": [
        {
          "output_type": "execute_result",
          "data": {
            "text/plain": [
              "(180284, 72)"
            ]
          },
          "metadata": {},
          "execution_count": 43
        }
      ]
    },
    {
      "cell_type": "code",
      "source": [
        "# user_all.head()"
      ],
      "metadata": {
        "id": "sDaF57Sl7j3w"
      },
      "execution_count": null,
      "outputs": []
    },
    {
      "cell_type": "code",
      "source": [
        "# user_all.mean()"
      ],
      "metadata": {
        "id": "Dm30Q8da7j7B"
      },
      "execution_count": null,
      "outputs": []
    },
    {
      "cell_type": "code",
      "source": [
        "user_all.dropna(inplace=True)"
      ],
      "metadata": {
        "id": "6e2kxuiR7x-1"
      },
      "execution_count": null,
      "outputs": []
    },
    {
      "cell_type": "code",
      "source": [
        "user_all.head()"
      ],
      "metadata": {
        "colab": {
          "base_uri": "https://localhost:8080/",
          "height": 334
        },
        "id": "zVnrhF8R7yBs",
        "outputId": "13fb1038-a66f-414c-fe03-229466d3f39b"
      },
      "execution_count": null,
      "outputs": [
        {
          "output_type": "execute_result",
          "data": {
            "text/plain": [
              "   cat_Accessories  cat_Active  cat_Blazers & Jackets  cat_Clothing Sets  \\\n",
              "0                0           0                      0                  0   \n",
              "1                0           0                      0                  0   \n",
              "2                0           0                      0                  0   \n",
              "3                0           0                      0                  0   \n",
              "4                0           0                      0                  0   \n",
              "\n",
              "   cat_Dresses  cat_Fashion Hoodies & Sweatshirts  cat_Intimates  cat_Jeans  \\\n",
              "0            0                                  0              0          0   \n",
              "1            0                                  0              0          0   \n",
              "2            0                                  0              0          0   \n",
              "3            0                                  0              0          0   \n",
              "4            0                                  0              0          0   \n",
              "\n",
              "   cat_Jumpsuits & Rompers  cat_Leggings  ...  user_spent_medium-high  \\\n",
              "0                        0             0  ...                     1.0   \n",
              "1                        0             0  ...                     0.0   \n",
              "2                        0             0  ...                     0.0   \n",
              "3                        0             0  ...                     0.0   \n",
              "4                        0             0  ...                     1.0   \n",
              "\n",
              "   user_spent_high  returns_0  returns_1  returns_2  returns_3  returns_4  \\\n",
              "0              0.0        1.0        0.0        0.0        0.0        0.0   \n",
              "1              0.0        1.0        0.0        0.0        0.0        0.0   \n",
              "2              1.0        1.0        0.0        0.0        0.0        0.0   \n",
              "3              0.0        1.0        0.0        0.0        0.0        0.0   \n",
              "4              0.0        1.0        0.0        0.0        0.0        0.0   \n",
              "\n",
              "   returns_5  returns_6  returns_7  \n",
              "0        0.0        0.0        0.0  \n",
              "1        0.0        0.0        0.0  \n",
              "2        0.0        0.0        0.0  \n",
              "3        0.0        0.0        0.0  \n",
              "4        0.0        0.0        0.0  \n",
              "\n",
              "[5 rows x 72 columns]"
            ],
            "text/html": [
              "\n",
              "  <div id=\"df-f808d7d6-ff15-4a38-98c8-16f8abc2f4e1\">\n",
              "    <div class=\"colab-df-container\">\n",
              "      <div>\n",
              "<style scoped>\n",
              "    .dataframe tbody tr th:only-of-type {\n",
              "        vertical-align: middle;\n",
              "    }\n",
              "\n",
              "    .dataframe tbody tr th {\n",
              "        vertical-align: top;\n",
              "    }\n",
              "\n",
              "    .dataframe thead th {\n",
              "        text-align: right;\n",
              "    }\n",
              "</style>\n",
              "<table border=\"1\" class=\"dataframe\">\n",
              "  <thead>\n",
              "    <tr style=\"text-align: right;\">\n",
              "      <th></th>\n",
              "      <th>cat_Accessories</th>\n",
              "      <th>cat_Active</th>\n",
              "      <th>cat_Blazers &amp; Jackets</th>\n",
              "      <th>cat_Clothing Sets</th>\n",
              "      <th>cat_Dresses</th>\n",
              "      <th>cat_Fashion Hoodies &amp; Sweatshirts</th>\n",
              "      <th>cat_Intimates</th>\n",
              "      <th>cat_Jeans</th>\n",
              "      <th>cat_Jumpsuits &amp; Rompers</th>\n",
              "      <th>cat_Leggings</th>\n",
              "      <th>...</th>\n",
              "      <th>user_spent_medium-high</th>\n",
              "      <th>user_spent_high</th>\n",
              "      <th>returns_0</th>\n",
              "      <th>returns_1</th>\n",
              "      <th>returns_2</th>\n",
              "      <th>returns_3</th>\n",
              "      <th>returns_4</th>\n",
              "      <th>returns_5</th>\n",
              "      <th>returns_6</th>\n",
              "      <th>returns_7</th>\n",
              "    </tr>\n",
              "  </thead>\n",
              "  <tbody>\n",
              "    <tr>\n",
              "      <th>0</th>\n",
              "      <td>0</td>\n",
              "      <td>0</td>\n",
              "      <td>0</td>\n",
              "      <td>0</td>\n",
              "      <td>0</td>\n",
              "      <td>0</td>\n",
              "      <td>0</td>\n",
              "      <td>0</td>\n",
              "      <td>0</td>\n",
              "      <td>0</td>\n",
              "      <td>...</td>\n",
              "      <td>1.0</td>\n",
              "      <td>0.0</td>\n",
              "      <td>1.0</td>\n",
              "      <td>0.0</td>\n",
              "      <td>0.0</td>\n",
              "      <td>0.0</td>\n",
              "      <td>0.0</td>\n",
              "      <td>0.0</td>\n",
              "      <td>0.0</td>\n",
              "      <td>0.0</td>\n",
              "    </tr>\n",
              "    <tr>\n",
              "      <th>1</th>\n",
              "      <td>0</td>\n",
              "      <td>0</td>\n",
              "      <td>0</td>\n",
              "      <td>0</td>\n",
              "      <td>0</td>\n",
              "      <td>0</td>\n",
              "      <td>0</td>\n",
              "      <td>0</td>\n",
              "      <td>0</td>\n",
              "      <td>0</td>\n",
              "      <td>...</td>\n",
              "      <td>0.0</td>\n",
              "      <td>0.0</td>\n",
              "      <td>1.0</td>\n",
              "      <td>0.0</td>\n",
              "      <td>0.0</td>\n",
              "      <td>0.0</td>\n",
              "      <td>0.0</td>\n",
              "      <td>0.0</td>\n",
              "      <td>0.0</td>\n",
              "      <td>0.0</td>\n",
              "    </tr>\n",
              "    <tr>\n",
              "      <th>2</th>\n",
              "      <td>0</td>\n",
              "      <td>0</td>\n",
              "      <td>0</td>\n",
              "      <td>0</td>\n",
              "      <td>0</td>\n",
              "      <td>0</td>\n",
              "      <td>0</td>\n",
              "      <td>0</td>\n",
              "      <td>0</td>\n",
              "      <td>0</td>\n",
              "      <td>...</td>\n",
              "      <td>0.0</td>\n",
              "      <td>1.0</td>\n",
              "      <td>1.0</td>\n",
              "      <td>0.0</td>\n",
              "      <td>0.0</td>\n",
              "      <td>0.0</td>\n",
              "      <td>0.0</td>\n",
              "      <td>0.0</td>\n",
              "      <td>0.0</td>\n",
              "      <td>0.0</td>\n",
              "    </tr>\n",
              "    <tr>\n",
              "      <th>3</th>\n",
              "      <td>0</td>\n",
              "      <td>0</td>\n",
              "      <td>0</td>\n",
              "      <td>0</td>\n",
              "      <td>0</td>\n",
              "      <td>0</td>\n",
              "      <td>0</td>\n",
              "      <td>0</td>\n",
              "      <td>0</td>\n",
              "      <td>0</td>\n",
              "      <td>...</td>\n",
              "      <td>0.0</td>\n",
              "      <td>0.0</td>\n",
              "      <td>1.0</td>\n",
              "      <td>0.0</td>\n",
              "      <td>0.0</td>\n",
              "      <td>0.0</td>\n",
              "      <td>0.0</td>\n",
              "      <td>0.0</td>\n",
              "      <td>0.0</td>\n",
              "      <td>0.0</td>\n",
              "    </tr>\n",
              "    <tr>\n",
              "      <th>4</th>\n",
              "      <td>0</td>\n",
              "      <td>0</td>\n",
              "      <td>0</td>\n",
              "      <td>0</td>\n",
              "      <td>0</td>\n",
              "      <td>0</td>\n",
              "      <td>0</td>\n",
              "      <td>0</td>\n",
              "      <td>0</td>\n",
              "      <td>0</td>\n",
              "      <td>...</td>\n",
              "      <td>1.0</td>\n",
              "      <td>0.0</td>\n",
              "      <td>1.0</td>\n",
              "      <td>0.0</td>\n",
              "      <td>0.0</td>\n",
              "      <td>0.0</td>\n",
              "      <td>0.0</td>\n",
              "      <td>0.0</td>\n",
              "      <td>0.0</td>\n",
              "      <td>0.0</td>\n",
              "    </tr>\n",
              "  </tbody>\n",
              "</table>\n",
              "<p>5 rows × 72 columns</p>\n",
              "</div>\n",
              "      <button class=\"colab-df-convert\" onclick=\"convertToInteractive('df-f808d7d6-ff15-4a38-98c8-16f8abc2f4e1')\"\n",
              "              title=\"Convert this dataframe to an interactive table.\"\n",
              "              style=\"display:none;\">\n",
              "        \n",
              "  <svg xmlns=\"http://www.w3.org/2000/svg\" height=\"24px\"viewBox=\"0 0 24 24\"\n",
              "       width=\"24px\">\n",
              "    <path d=\"M0 0h24v24H0V0z\" fill=\"none\"/>\n",
              "    <path d=\"M18.56 5.44l.94 2.06.94-2.06 2.06-.94-2.06-.94-.94-2.06-.94 2.06-2.06.94zm-11 1L8.5 8.5l.94-2.06 2.06-.94-2.06-.94L8.5 2.5l-.94 2.06-2.06.94zm10 10l.94 2.06.94-2.06 2.06-.94-2.06-.94-.94-2.06-.94 2.06-2.06.94z\"/><path d=\"M17.41 7.96l-1.37-1.37c-.4-.4-.92-.59-1.43-.59-.52 0-1.04.2-1.43.59L10.3 9.45l-7.72 7.72c-.78.78-.78 2.05 0 2.83L4 21.41c.39.39.9.59 1.41.59.51 0 1.02-.2 1.41-.59l7.78-7.78 2.81-2.81c.8-.78.8-2.07 0-2.86zM5.41 20L4 18.59l7.72-7.72 1.47 1.35L5.41 20z\"/>\n",
              "  </svg>\n",
              "      </button>\n",
              "      \n",
              "  <style>\n",
              "    .colab-df-container {\n",
              "      display:flex;\n",
              "      flex-wrap:wrap;\n",
              "      gap: 12px;\n",
              "    }\n",
              "\n",
              "    .colab-df-convert {\n",
              "      background-color: #E8F0FE;\n",
              "      border: none;\n",
              "      border-radius: 50%;\n",
              "      cursor: pointer;\n",
              "      display: none;\n",
              "      fill: #1967D2;\n",
              "      height: 32px;\n",
              "      padding: 0 0 0 0;\n",
              "      width: 32px;\n",
              "    }\n",
              "\n",
              "    .colab-df-convert:hover {\n",
              "      background-color: #E2EBFA;\n",
              "      box-shadow: 0px 1px 2px rgba(60, 64, 67, 0.3), 0px 1px 3px 1px rgba(60, 64, 67, 0.15);\n",
              "      fill: #174EA6;\n",
              "    }\n",
              "\n",
              "    [theme=dark] .colab-df-convert {\n",
              "      background-color: #3B4455;\n",
              "      fill: #D2E3FC;\n",
              "    }\n",
              "\n",
              "    [theme=dark] .colab-df-convert:hover {\n",
              "      background-color: #434B5C;\n",
              "      box-shadow: 0px 1px 3px 1px rgba(0, 0, 0, 0.15);\n",
              "      filter: drop-shadow(0px 1px 2px rgba(0, 0, 0, 0.3));\n",
              "      fill: #FFFFFF;\n",
              "    }\n",
              "  </style>\n",
              "\n",
              "      <script>\n",
              "        const buttonEl =\n",
              "          document.querySelector('#df-f808d7d6-ff15-4a38-98c8-16f8abc2f4e1 button.colab-df-convert');\n",
              "        buttonEl.style.display =\n",
              "          google.colab.kernel.accessAllowed ? 'block' : 'none';\n",
              "\n",
              "        async function convertToInteractive(key) {\n",
              "          const element = document.querySelector('#df-f808d7d6-ff15-4a38-98c8-16f8abc2f4e1');\n",
              "          const dataTable =\n",
              "            await google.colab.kernel.invokeFunction('convertToInteractive',\n",
              "                                                     [key], {});\n",
              "          if (!dataTable) return;\n",
              "\n",
              "          const docLinkHtml = 'Like what you see? Visit the ' +\n",
              "            '<a target=\"_blank\" href=https://colab.research.google.com/notebooks/data_table.ipynb>data table notebook</a>'\n",
              "            + ' to learn more about interactive tables.';\n",
              "          element.innerHTML = '';\n",
              "          dataTable['output_type'] = 'display_data';\n",
              "          await google.colab.output.renderOutput(dataTable, element);\n",
              "          const docLink = document.createElement('div');\n",
              "          docLink.innerHTML = docLinkHtml;\n",
              "          element.appendChild(docLink);\n",
              "        }\n",
              "      </script>\n",
              "    </div>\n",
              "  </div>\n",
              "  "
            ]
          },
          "metadata": {},
          "execution_count": 45
        }
      ]
    },
    {
      "cell_type": "code",
      "source": [
        "# K-Menas Analysis -- Determine Optimal Number of Clusters"
      ],
      "metadata": {
        "id": "2IVZXUv67yEl"
      },
      "execution_count": null,
      "outputs": []
    },
    {
      "cell_type": "code",
      "source": [
        "from sklearn.cluster import KMeans\n",
        "import matplotlib.pyplot as plt\n",
        "\n",
        "import numpy as np\n",
        "np.random.seed(5)\n",
        "\n",
        "sse = {}\n",
        "for k in range(1, 10):\n",
        "    kmeans = KMeans(n_clusters=k, max_iter=1000).fit(user_all)\n",
        "    #user_all[\"clusters\"] = kmeans.labels_\n",
        "    #print(data[\"clusters\"])\n",
        "    sse[k] = kmeans.inertia_ # Inertia: Sum of distances of samples to their closest cluster center\n",
        "plt.figure()\n",
        "plt.plot(list(sse.keys()), list(sse.values()))\n",
        "plt.xlabel(\"Number of cluster\")\n",
        "plt.ylabel(\"SSE\")\n",
        "plt.show()"
      ],
      "metadata": {
        "colab": {
          "base_uri": "https://localhost:8080/",
          "height": 781
        },
        "id": "syRYo7yO7yG6",
        "outputId": "8cb74378-b52c-4493-8ef0-7ffd19ae7f87"
      },
      "execution_count": null,
      "outputs": [
        {
          "output_type": "stream",
          "name": "stderr",
          "text": [
            "/usr/local/lib/python3.10/dist-packages/sklearn/cluster/_kmeans.py:870: FutureWarning: The default value of `n_init` will change from 10 to 'auto' in 1.4. Set the value of `n_init` explicitly to suppress the warning\n",
            "  warnings.warn(\n",
            "/usr/local/lib/python3.10/dist-packages/sklearn/cluster/_kmeans.py:870: FutureWarning: The default value of `n_init` will change from 10 to 'auto' in 1.4. Set the value of `n_init` explicitly to suppress the warning\n",
            "  warnings.warn(\n",
            "/usr/local/lib/python3.10/dist-packages/sklearn/cluster/_kmeans.py:870: FutureWarning: The default value of `n_init` will change from 10 to 'auto' in 1.4. Set the value of `n_init` explicitly to suppress the warning\n",
            "  warnings.warn(\n",
            "/usr/local/lib/python3.10/dist-packages/sklearn/cluster/_kmeans.py:870: FutureWarning: The default value of `n_init` will change from 10 to 'auto' in 1.4. Set the value of `n_init` explicitly to suppress the warning\n",
            "  warnings.warn(\n",
            "/usr/local/lib/python3.10/dist-packages/sklearn/cluster/_kmeans.py:870: FutureWarning: The default value of `n_init` will change from 10 to 'auto' in 1.4. Set the value of `n_init` explicitly to suppress the warning\n",
            "  warnings.warn(\n",
            "/usr/local/lib/python3.10/dist-packages/sklearn/cluster/_kmeans.py:870: FutureWarning: The default value of `n_init` will change from 10 to 'auto' in 1.4. Set the value of `n_init` explicitly to suppress the warning\n",
            "  warnings.warn(\n",
            "/usr/local/lib/python3.10/dist-packages/sklearn/cluster/_kmeans.py:870: FutureWarning: The default value of `n_init` will change from 10 to 'auto' in 1.4. Set the value of `n_init` explicitly to suppress the warning\n",
            "  warnings.warn(\n",
            "/usr/local/lib/python3.10/dist-packages/sklearn/cluster/_kmeans.py:870: FutureWarning: The default value of `n_init` will change from 10 to 'auto' in 1.4. Set the value of `n_init` explicitly to suppress the warning\n",
            "  warnings.warn(\n",
            "/usr/local/lib/python3.10/dist-packages/sklearn/cluster/_kmeans.py:870: FutureWarning: The default value of `n_init` will change from 10 to 'auto' in 1.4. Set the value of `n_init` explicitly to suppress the warning\n",
            "  warnings.warn(\n"
          ]
        },
        {
          "output_type": "display_data",
          "data": {
            "text/plain": [
              "<Figure size 640x480 with 1 Axes>"
            ],
            "image/png": "[encoded data removed]"
          },
          "metadata": {}
        }
      ]
    },
    {
      "cell_type": "code",
      "source": [
        "kmeans = KMeans(n_clusters=6, max_iter=1000, random_state=2).fit(user_all)\n",
        "user_all[\"clusters\"] = kmeans.labels_"
      ],
      "metadata": {
        "colab": {
          "base_uri": "https://localhost:8080/"
        },
        "id": "BaV-bYMJvj64",
        "outputId": "63f77b4d-9b13-4437-f7bc-6f4d26b5f11f"
      },
      "execution_count": null,
      "outputs": [
        {
          "output_type": "stream",
          "name": "stderr",
          "text": [
            "/usr/local/lib/python3.10/dist-packages/sklearn/cluster/_kmeans.py:870: FutureWarning: The default value of `n_init` will change from 10 to 'auto' in 1.4. Set the value of `n_init` explicitly to suppress the warning\n",
            "  warnings.warn(\n"
          ]
        }
      ]
    },
    {
      "cell_type": "code",
      "source": [
        "# Examine Cluster Charactaristics"
      ],
      "metadata": {
        "id": "XHilRtKOv74N"
      },
      "execution_count": null,
      "outputs": []
    },
    {
      "cell_type": "code",
      "source": [
        "cluster_means = user_all.groupby('clusters').mean()"
      ],
      "metadata": {
        "id": "f2d-47VUI1W0"
      },
      "execution_count": null,
      "outputs": []
    },
    {
      "cell_type": "code",
      "source": [
        "cluster_means"
      ],
      "metadata": {
        "colab": {
          "base_uri": "https://localhost:8080/",
          "height": 397
        },
        "id": "tueIvGf_I1ZP",
        "outputId": "2a2c53d0-e282-4ccb-a9a5-699972cb522a"
      },
      "execution_count": null,
      "outputs": [
        {
          "output_type": "execute_result",
          "data": {
            "text/plain": [
              "          cat_Accessories  cat_Active  cat_Blazers & Jackets  \\\n",
              "clusters                                                       \n",
              "0                0.050517    0.049751               0.031382   \n",
              "1                0.041382    0.037043               0.035041   \n",
              "2                0.044942    0.042922               0.034169   \n",
              "3                0.034243    0.042948               0.034823   \n",
              "4                0.047273    0.041877               0.034604   \n",
              "5                0.046474    0.039769               0.033988   \n",
              "\n",
              "          cat_Clothing Sets  cat_Dresses  cat_Fashion Hoodies & Sweatshirts  \\\n",
              "clusters                                                                      \n",
              "0                  0.001531     0.061998                           0.051282   \n",
              "1                  0.004005     0.061405                           0.051060   \n",
              "2                  0.001347     0.064299                           0.049150   \n",
              "3                  0.007545     0.055136                           0.055717   \n",
              "4                  0.000704     0.069208                           0.052434   \n",
              "5                  0.003468     0.064277                           0.056647   \n",
              "\n",
              "          cat_Intimates  cat_Jeans  cat_Jumpsuits & Rompers  cat_Leggings  \\\n",
              "clusters                                                                    \n",
              "0              0.158056   0.054344                 0.009185      0.025641   \n",
              "1              0.157851   0.058568                 0.007342      0.043050   \n",
              "2              0.158054   0.060933                 0.014476      0.027605   \n",
              "3              0.172954   0.053395                 0.008706      0.033082   \n",
              "4              0.148622   0.062639                 0.011496      0.032845   \n",
              "5              0.153064   0.054335                 0.008786      0.043468   \n",
              "\n",
              "          ...  user_spent_medium-high  user_spent_high  returns_0  returns_1  \\\n",
              "clusters  ...                                                                  \n",
              "0         ...                0.206659         0.198240   0.848067   0.100268   \n",
              "1         ...                0.199566         0.206407   0.852995   0.099449   \n",
              "2         ...                0.188184         0.201481   0.850699   0.102508   \n",
              "3         ...                0.205456         0.197911   0.849681   0.107371   \n",
              "4         ...                0.204223         0.194604   0.851848   0.099824   \n",
              "5         ...                0.199769         0.193526   0.849480   0.101503   \n",
              "\n",
              "          returns_2  returns_3  returns_4  returns_5  returns_6  returns_7  \n",
              "clusters                                                                    \n",
              "0          0.032530   0.007654   0.009568   0.001531   0.000383   0.000000  \n",
              "1          0.029201   0.009177   0.008009   0.000501   0.000501   0.000167  \n",
              "2          0.029288   0.007070   0.009426   0.000673   0.000168   0.000168  \n",
              "3          0.026698   0.008125   0.007545   0.000580   0.000000   0.000000  \n",
              "4          0.030147   0.010088   0.007859   0.000000   0.000235   0.000000  \n",
              "5          0.029595   0.008786   0.008786   0.001387   0.000231   0.000231  \n",
              "\n",
              "[6 rows x 72 columns]"
            ],
            "text/html": [
              "\n",
              "  <div id=\"df-3cd3f13d-e263-4af8-99de-b37d8ccb4388\">\n",
              "    <div class=\"colab-df-container\">\n",
              "      <div>\n",
              "<style scoped>\n",
              "    .dataframe tbody tr th:only-of-type {\n",
              "        vertical-align: middle;\n",
              "    }\n",
              "\n",
              "    .dataframe tbody tr th {\n",
              "        vertical-align: top;\n",
              "    }\n",
              "\n",
              "    .dataframe thead th {\n",
              "        text-align: right;\n",
              "    }\n",
              "</style>\n",
              "<table border=\"1\" class=\"dataframe\">\n",
              "  <thead>\n",
              "    <tr style=\"text-align: right;\">\n",
              "      <th></th>\n",
              "      <th>cat_Accessories</th>\n",
              "      <th>cat_Active</th>\n",
              "      <th>cat_Blazers &amp; Jackets</th>\n",
              "      <th>cat_Clothing Sets</th>\n",
              "      <th>cat_Dresses</th>\n",
              "      <th>cat_Fashion Hoodies &amp; Sweatshirts</th>\n",
              "      <th>cat_Intimates</th>\n",
              "      <th>cat_Jeans</th>\n",
              "      <th>cat_Jumpsuits &amp; Rompers</th>\n",
              "      <th>cat_Leggings</th>\n",
              "      <th>...</th>\n",
              "      <th>user_spent_medium-high</th>\n",
              "      <th>user_spent_high</th>\n",
              "      <th>returns_0</th>\n",
              "      <th>returns_1</th>\n",
              "      <th>returns_2</th>\n",
              "      <th>returns_3</th>\n",
              "      <th>returns_4</th>\n",
              "      <th>returns_5</th>\n",
              "      <th>returns_6</th>\n",
              "      <th>returns_7</th>\n",
              "    </tr>\n",
              "    <tr>\n",
              "      <th>clusters</th>\n",
              "      <th></th>\n",
              "      <th></th>\n",
              "      <th></th>\n",
              "      <th></th>\n",
              "      <th></th>\n",
              "      <th></th>\n",
              "      <th></th>\n",
              "      <th></th>\n",
              "      <th></th>\n",
              "      <th></th>\n",
              "      <th></th>\n",
              "      <th></th>\n",
              "      <th></th>\n",
              "      <th></th>\n",
              "      <th></th>\n",
              "      <th></th>\n",
              "      <th></th>\n",
              "      <th></th>\n",
              "      <th></th>\n",
              "      <th></th>\n",
              "      <th></th>\n",
              "    </tr>\n",
              "  </thead>\n",
              "  <tbody>\n",
              "    <tr>\n",
              "      <th>0</th>\n",
              "      <td>0.050517</td>\n",
              "      <td>0.049751</td>\n",
              "      <td>0.031382</td>\n",
              "      <td>0.001531</td>\n",
              "      <td>0.061998</td>\n",
              "      <td>0.051282</td>\n",
              "      <td>0.158056</td>\n",
              "      <td>0.054344</td>\n",
              "      <td>0.009185</td>\n",
              "      <td>0.025641</td>\n",
              "      <td>...</td>\n",
              "      <td>0.206659</td>\n",
              "      <td>0.198240</td>\n",
              "      <td>0.848067</td>\n",
              "      <td>0.100268</td>\n",
              "      <td>0.032530</td>\n",
              "      <td>0.007654</td>\n",
              "      <td>0.009568</td>\n",
              "      <td>0.001531</td>\n",
              "      <td>0.000383</td>\n",
              "      <td>0.000000</td>\n",
              "    </tr>\n",
              "    <tr>\n",
              "      <th>1</th>\n",
              "      <td>0.041382</td>\n",
              "      <td>0.037043</td>\n",
              "      <td>0.035041</td>\n",
              "      <td>0.004005</td>\n",
              "      <td>0.061405</td>\n",
              "      <td>0.051060</td>\n",
              "      <td>0.157851</td>\n",
              "      <td>0.058568</td>\n",
              "      <td>0.007342</td>\n",
              "      <td>0.043050</td>\n",
              "      <td>...</td>\n",
              "      <td>0.199566</td>\n",
              "      <td>0.206407</td>\n",
              "      <td>0.852995</td>\n",
              "      <td>0.099449</td>\n",
              "      <td>0.029201</td>\n",
              "      <td>0.009177</td>\n",
              "      <td>0.008009</td>\n",
              "      <td>0.000501</td>\n",
              "      <td>0.000501</td>\n",
              "      <td>0.000167</td>\n",
              "    </tr>\n",
              "    <tr>\n",
              "      <th>2</th>\n",
              "      <td>0.044942</td>\n",
              "      <td>0.042922</td>\n",
              "      <td>0.034169</td>\n",
              "      <td>0.001347</td>\n",
              "      <td>0.064299</td>\n",
              "      <td>0.049150</td>\n",
              "      <td>0.158054</td>\n",
              "      <td>0.060933</td>\n",
              "      <td>0.014476</td>\n",
              "      <td>0.027605</td>\n",
              "      <td>...</td>\n",
              "      <td>0.188184</td>\n",
              "      <td>0.201481</td>\n",
              "      <td>0.850699</td>\n",
              "      <td>0.102508</td>\n",
              "      <td>0.029288</td>\n",
              "      <td>0.007070</td>\n",
              "      <td>0.009426</td>\n",
              "      <td>0.000673</td>\n",
              "      <td>0.000168</td>\n",
              "      <td>0.000168</td>\n",
              "    </tr>\n",
              "    <tr>\n",
              "      <th>3</th>\n",
              "      <td>0.034243</td>\n",
              "      <td>0.042948</td>\n",
              "      <td>0.034823</td>\n",
              "      <td>0.007545</td>\n",
              "      <td>0.055136</td>\n",
              "      <td>0.055717</td>\n",
              "      <td>0.172954</td>\n",
              "      <td>0.053395</td>\n",
              "      <td>0.008706</td>\n",
              "      <td>0.033082</td>\n",
              "      <td>...</td>\n",
              "      <td>0.205456</td>\n",
              "      <td>0.197911</td>\n",
              "      <td>0.849681</td>\n",
              "      <td>0.107371</td>\n",
              "      <td>0.026698</td>\n",
              "      <td>0.008125</td>\n",
              "      <td>0.007545</td>\n",
              "      <td>0.000580</td>\n",
              "      <td>0.000000</td>\n",
              "      <td>0.000000</td>\n",
              "    </tr>\n",
              "    <tr>\n",
              "      <th>4</th>\n",
              "      <td>0.047273</td>\n",
              "      <td>0.041877</td>\n",
              "      <td>0.034604</td>\n",
              "      <td>0.000704</td>\n",
              "      <td>0.069208</td>\n",
              "      <td>0.052434</td>\n",
              "      <td>0.148622</td>\n",
              "      <td>0.062639</td>\n",
              "      <td>0.011496</td>\n",
              "      <td>0.032845</td>\n",
              "      <td>...</td>\n",
              "      <td>0.204223</td>\n",
              "      <td>0.194604</td>\n",
              "      <td>0.851848</td>\n",
              "      <td>0.099824</td>\n",
              "      <td>0.030147</td>\n",
              "      <td>0.010088</td>\n",
              "      <td>0.007859</td>\n",
              "      <td>0.000000</td>\n",
              "      <td>0.000235</td>\n",
              "      <td>0.000000</td>\n",
              "    </tr>\n",
              "    <tr>\n",
              "      <th>5</th>\n",
              "      <td>0.046474</td>\n",
              "      <td>0.039769</td>\n",
              "      <td>0.033988</td>\n",
              "      <td>0.003468</td>\n",
              "      <td>0.064277</td>\n",
              "      <td>0.056647</td>\n",
              "      <td>0.153064</td>\n",
              "      <td>0.054335</td>\n",
              "      <td>0.008786</td>\n",
              "      <td>0.043468</td>\n",
              "      <td>...</td>\n",
              "      <td>0.199769</td>\n",
              "      <td>0.193526</td>\n",
              "      <td>0.849480</td>\n",
              "      <td>0.101503</td>\n",
              "      <td>0.029595</td>\n",
              "      <td>0.008786</td>\n",
              "      <td>0.008786</td>\n",
              "      <td>0.001387</td>\n",
              "      <td>0.000231</td>\n",
              "      <td>0.000231</td>\n",
              "    </tr>\n",
              "  </tbody>\n",
              "</table>\n",
              "<p>6 rows × 72 columns</p>\n",
              "</div>\n",
              "      <button class=\"colab-df-convert\" onclick=\"convertToInteractive('df-3cd3f13d-e263-4af8-99de-b37d8ccb4388')\"\n",
              "              title=\"Convert this dataframe to an interactive table.\"\n",
              "              style=\"display:none;\">\n",
              "        \n",
              "  <svg xmlns=\"http://www.w3.org/2000/svg\" height=\"24px\"viewBox=\"0 0 24 24\"\n",
              "       width=\"24px\">\n",
              "    <path d=\"M0 0h24v24H0V0z\" fill=\"none\"/>\n",
              "    <path d=\"M18.56 5.44l.94 2.06.94-2.06 2.06-.94-2.06-.94-.94-2.06-.94 2.06-2.06.94zm-11 1L8.5 8.5l.94-2.06 2.06-.94-2.06-.94L8.5 2.5l-.94 2.06-2.06.94zm10 10l.94 2.06.94-2.06 2.06-.94-2.06-.94-.94-2.06-.94 2.06-2.06.94z\"/><path d=\"M17.41 7.96l-1.37-1.37c-.4-.4-.92-.59-1.43-.59-.52 0-1.04.2-1.43.59L10.3 9.45l-7.72 7.72c-.78.78-.78 2.05 0 2.83L4 21.41c.39.39.9.59 1.41.59.51 0 1.02-.2 1.41-.59l7.78-7.78 2.81-2.81c.8-.78.8-2.07 0-2.86zM5.41 20L4 18.59l7.72-7.72 1.47 1.35L5.41 20z\"/>\n",
              "  </svg>\n",
              "      </button>\n",
              "      \n",
              "  <style>\n",
              "    .colab-df-container {\n",
              "      display:flex;\n",
              "      flex-wrap:wrap;\n",
              "      gap: 12px;\n",
              "    }\n",
              "\n",
              "    .colab-df-convert {\n",
              "      background-color: #E8F0FE;\n",
              "      border: none;\n",
              "      border-radius: 50%;\n",
              "      cursor: pointer;\n",
              "      display: none;\n",
              "      fill: #1967D2;\n",
              "      height: 32px;\n",
              "      padding: 0 0 0 0;\n",
              "      width: 32px;\n",
              "    }\n",
              "\n",
              "    .colab-df-convert:hover {\n",
              "      background-color: #E2EBFA;\n",
              "      box-shadow: 0px 1px 2px rgba(60, 64, 67, 0.3), 0px 1px 3px 1px rgba(60, 64, 67, 0.15);\n",
              "      fill: #174EA6;\n",
              "    }\n",
              "\n",
              "    [theme=dark] .colab-df-convert {\n",
              "      background-color: #3B4455;\n",
              "      fill: #D2E3FC;\n",
              "    }\n",
              "\n",
              "    [theme=dark] .colab-df-convert:hover {\n",
              "      background-color: #434B5C;\n",
              "      box-shadow: 0px 1px 3px 1px rgba(0, 0, 0, 0.15);\n",
              "      filter: drop-shadow(0px 1px 2px rgba(0, 0, 0, 0.3));\n",
              "      fill: #FFFFFF;\n",
              "    }\n",
              "  </style>\n",
              "\n",
              "      <script>\n",
              "        const buttonEl =\n",
              "          document.querySelector('#df-3cd3f13d-e263-4af8-99de-b37d8ccb4388 button.colab-df-convert');\n",
              "        buttonEl.style.display =\n",
              "          google.colab.kernel.accessAllowed ? 'block' : 'none';\n",
              "\n",
              "        async function convertToInteractive(key) {\n",
              "          const element = document.querySelector('#df-3cd3f13d-e263-4af8-99de-b37d8ccb4388');\n",
              "          const dataTable =\n",
              "            await google.colab.kernel.invokeFunction('convertToInteractive',\n",
              "                                                     [key], {});\n",
              "          if (!dataTable) return;\n",
              "\n",
              "          const docLinkHtml = 'Like what you see? Visit the ' +\n",
              "            '<a target=\"_blank\" href=https://colab.research.google.com/notebooks/data_table.ipynb>data table notebook</a>'\n",
              "            + ' to learn more about interactive tables.';\n",
              "          element.innerHTML = '';\n",
              "          dataTable['output_type'] = 'display_data';\n",
              "          await google.colab.output.renderOutput(dataTable, element);\n",
              "          const docLink = document.createElement('div');\n",
              "          docLink.innerHTML = docLinkHtml;\n",
              "          element.appendChild(docLink);\n",
              "        }\n",
              "      </script>\n",
              "    </div>\n",
              "  </div>\n",
              "  "
            ]
          },
          "metadata": {},
          "execution_count": 55
        }
      ]
    },
    {
      "cell_type": "code",
      "source": [
        "user_all.mean()"
      ],
      "metadata": {
        "colab": {
          "base_uri": "https://localhost:8080/"
        },
        "id": "M0KeEvFwI1bQ",
        "outputId": "f1b3c584-ee40-4f7e-8aa3-3d58776e295f"
      },
      "execution_count": null,
      "outputs": [
        {
          "output_type": "execute_result",
          "data": {
            "text/plain": [
              "cat_Accessories          0.044986\n",
              "cat_Active               0.041552\n",
              "cat_Blazers & Jackets    0.034238\n",
              "cat_Clothing Sets        0.002404\n",
              "cat_Dresses              0.064389\n",
              "                           ...   \n",
              "returns_4                0.008482\n",
              "returns_5                0.000618\n",
              "returns_6                0.000275\n",
              "returns_7                0.000103\n",
              "clusters                 2.704979\n",
              "Length: 73, dtype: float64"
            ]
          },
          "metadata": {},
          "execution_count": 56
        }
      ]
    },
    {
      "cell_type": "code",
      "source": [
        "percent_diff = cluster_means/user_all.mean()-1\n",
        "percent_diff = percent_diff.T"
      ],
      "metadata": {
        "id": "WEnJTwFHI1da"
      },
      "execution_count": null,
      "outputs": []
    },
    {
      "cell_type": "code",
      "source": [
        "print(percent_diff.to_string())"
      ],
      "metadata": {
        "colab": {
          "base_uri": "https://localhost:8080/"
        },
        "id": "J0xAmzXPI1fy",
        "outputId": "b1b5469d-5f0d-4479-9f51-b102e0c43480"
      },
      "execution_count": null,
      "outputs": [
        {
          "output_type": "stream",
          "name": "stdout",
          "text": [
            "clusters                                  0         1         2         3         4         5\n",
            "age_0                             -0.045727  0.010343 -0.003588  0.004061 -0.006879  0.030166\n",
            "age_1                             -0.010425  0.005672 -0.009931 -0.006993 -0.014652  0.043747\n",
            "age_2                              0.002095  0.006820  0.013966 -0.003134  0.012035 -0.052374\n",
            "age_3                              0.063149 -0.027053  0.002117  0.002708  0.002355 -0.009293\n",
            "age_4                             -0.009256  0.004545 -0.002525  0.003814  0.008559 -0.015628\n",
            "cat_Accessories                    0.122935 -0.080128 -0.000986 -0.238821  0.050826  0.033071\n",
            "cat_Active                         0.197319 -0.108514  0.032967  0.033600  0.007813 -0.042920\n",
            "cat_Blazers & Jackets             -0.083419  0.023461 -0.001995  0.017097  0.010704 -0.007278\n",
            "cat_Clothing Sets                 -0.363184  0.665944 -0.439825  2.138712 -0.707214  0.442775\n",
            "cat_Dresses                       -0.037134 -0.046340 -0.001395 -0.143695  0.074850 -0.001728\n",
            "cat_Fashion Hoodies & Sweatshirts -0.017544 -0.021806 -0.058390  0.067416  0.004525  0.085245\n",
            "cat_Intimates                      0.017146  0.015827  0.017136  0.113022 -0.043566 -0.014981\n",
            "cat_Jeans                         -0.077804 -0.006113  0.034006 -0.093899  0.062970 -0.077947\n",
            "cat_Jumpsuits & Rompers           -0.123073 -0.299029  0.382071 -0.168815  0.097547 -0.161141\n",
            "cat_Leggings                      -0.263642  0.236314 -0.207247 -0.049958 -0.056771  0.248318\n",
            "cat_Maternity                     -0.035524 -0.069945  0.043472  0.035612  0.085386 -0.123824\n",
            "cat_Outerwear & Coats             -0.029477 -0.002907  0.094136 -0.187952  0.025777 -0.083402\n",
            "cat_Pants                               NaN       NaN       NaN       NaN       NaN       NaN\n",
            "cat_Pants & Capris                 0.016162 -0.157708 -0.012818  0.033012  0.084990  0.045698\n",
            "cat_Plus                           0.032165  0.072635 -0.071576 -0.164378 -0.062786  0.167482\n",
            "cat_Shorts                         0.118676 -0.076975  0.065009 -0.012154  0.009126 -0.067482\n",
            "cat_Skirts                         0.343284 -0.096168 -0.037199 -0.220352  0.047116 -0.028131\n",
            "cat_Sleep & Lounge                 0.058892 -0.028200  0.051957  0.055595  0.003189 -0.096309\n",
            "cat_Socks                               NaN       NaN       NaN       NaN       NaN       NaN\n",
            "cat_Socks & Hosiery                0.127051  0.014258  0.019170 -0.015490 -0.068660  0.018658\n",
            "cat_Suits                         -0.246122  0.114712 -0.178273  0.640367 -0.216367  0.405998\n",
            "cat_Suits & Sport Coats                 NaN       NaN       NaN       NaN       NaN       NaN\n",
            "cat_Sweaters                      -0.268014  0.154685 -0.041398  0.110086 -0.072304  0.103110\n",
            "cat_Swim                           0.101469 -0.017527  0.048067  0.004438 -0.031297 -0.043121\n",
            "cat_Tops & Tees                   -0.138243  0.174624 -0.105802  0.065813  0.023212 -0.085087\n",
            "cat_Underwear                           NaN       NaN       NaN       NaN       NaN       NaN\n",
            "clusters                                NaN       NaN       NaN       NaN       NaN       NaN\n",
            "country_Australia                       NaN       NaN       NaN       NaN       NaN       NaN\n",
            "country_Austria                         NaN       NaN       NaN       NaN       NaN       NaN\n",
            "country_Belgium                         NaN       NaN       NaN       NaN       NaN       NaN\n",
            "country_Brasil                     0.729978 -1.000000  0.714209 -1.000000  0.690962 -1.000000\n",
            "country_China                     -1.000000  1.418404 -1.000000  1.418404 -1.000000  1.418404\n",
            "country_Colombia                        NaN       NaN       NaN       NaN       NaN       NaN\n",
            "country_Deutschland                     NaN       NaN       NaN       NaN       NaN       NaN\n",
            "country_España                          NaN       NaN       NaN       NaN       NaN       NaN\n",
            "country_France                     1.089552 -1.000000  0.531729 -1.000000  0.707918 -1.000000\n",
            "country_Germany                    0.661866 -1.000000  0.758054 -1.000000  0.681284 -1.000000\n",
            "country_Japan                      0.695264 -1.000000  0.708202 -1.000000  0.705788 -1.000000\n",
            "country_Poland                          NaN       NaN       NaN       NaN       NaN       NaN\n",
            "country_South Korea                0.688527 -1.000000  0.697500 -1.000000  0.715311 -1.000000\n",
            "country_Spain                      0.682155 -1.000000  0.433467 -1.000000  0.901267 -1.000000\n",
            "country_United Kingdom             0.834814 -1.000000  0.687918 -1.000000  0.677151 -1.000000\n",
            "country_United States              0.644238 -1.000000  0.702761 -1.000000  0.725220 -1.000000\n",
            "product_price_high                 0.128996 -0.155065  0.100189 -0.200601  0.145662 -0.207888\n",
            "product_price_low                  0.038970 -0.070028  0.054021 -0.002286  0.030911 -0.060732\n",
            "product_price_low-medium          -0.158485  0.210964 -0.184210  0.159110 -0.159352  0.307176\n",
            "product_price_medium              -0.024110  0.109628 -0.011951  0.030180 -0.081525  0.027746\n",
            "product_price_medium-high          0.013116 -0.093209  0.039999  0.014625  0.062835 -0.063393\n",
            "returns_0                         -0.003482  0.002309 -0.000390 -0.001586  0.000960 -0.001822\n",
            "returns_1                         -0.007546 -0.015647  0.014627  0.062760 -0.011939  0.004679\n",
            "returns_2                          0.095103 -0.016965 -0.014027 -0.101232  0.014878 -0.003679\n",
            "returns_3                         -0.125939  0.048020 -0.192689 -0.072115  0.152007  0.003341\n",
            "returns_4                          0.127963 -0.055740  0.111278 -0.110487 -0.073437  0.035838\n",
            "returns_5                          1.476506 -0.190166  0.089229 -0.061069 -1.000000  1.244316\n",
            "returns_6                          0.393035  0.822126 -0.387309 -1.000000 -0.146041 -0.158382\n",
            "returns_7                         -1.000000  0.619667  0.633844 -1.000000 -1.000000  1.244316\n",
            "sex_F                             -1.000000 -1.000000 -1.000000  0.998216  0.998216  0.998216\n",
            "sex_M                              1.001787  1.001787  1.001787 -1.000000 -1.000000 -1.000000\n",
            "traffic_Display                    2.247457 -0.028973 -1.000000  2.565844  0.017136 -1.000000\n",
            "traffic_Email                      2.306708  0.015411 -1.000000  2.271479  0.027267 -1.000000\n",
            "traffic_Facebook                   2.431997 -0.006177 -1.000000  2.162140  0.026140 -1.000000\n",
            "traffic_Organic                    2.304122  0.025626 -1.000000  2.331380  0.008773 -1.000000\n",
            "traffic_Search                    -1.000000 -0.004230  0.430747 -1.000000 -0.007120  0.430747\n",
            "user_spent_high                   -0.002809  0.038277  0.013497 -0.004464 -0.021097 -0.026520\n",
            "user_spent_low                    -0.014808 -0.015950  0.047033  0.039609 -0.018306 -0.013255\n",
            "user_spent_low-medium              0.024404 -0.014496 -0.001603 -0.017261  0.019280 -0.023582\n",
            "user_spent_medium                 -0.041332 -0.007175 -0.002693 -0.048172 -0.002346  0.062428\n",
            "user_spent_medium-high             0.035250 -0.000281 -0.057300  0.029222  0.023047  0.000734\n"
          ]
        }
      ]
    },
    {
      "cell_type": "code",
      "source": [],
      "metadata": {
        "id": "TvzIyoqDJPQp"
      },
      "execution_count": null,
      "outputs": []
    },
    {
      "cell_type": "code",
      "source": [
        "cluster_names = {0:'Western Europe male fb shopper with high returns like high price item, such as Socks & Hosiery, Active and Skirts',\n",
        "                 1:'male spent high amount in a single order like medium price item',\n",
        "                 2:'mid-age male love buying from search',\n",
        "                 3:'female like buying suits and clothing sets from display rarely returns',\n",
        "                 4:'fancy spanish female like medium-high price item',\n",
        "                 5:'young ladies love Fashion Hoodies & Sweatshirts and Leggings with high returns like low-medium price item'\n",
        "                }"
      ],
      "metadata": {
        "id": "Ba4xOiRqJPTc"
      },
      "execution_count": null,
      "outputs": []
    },
    {
      "cell_type": "code",
      "source": [
        "user_all['clusters'].replace(cluster_names)"
      ],
      "metadata": {
        "colab": {
          "base_uri": "https://localhost:8080/"
        },
        "id": "Ii5j2bxRJQuJ",
        "outputId": "4f568e61-5cfb-4821-e7b9-a5f6fc97644f"
      },
      "execution_count": null,
      "outputs": [
        {
          "output_type": "execute_result",
          "data": {
            "text/plain": [
              "0                    mid-age male love buying from search\n",
              "1                    mid-age male love buying from search\n",
              "2                    mid-age male love buying from search\n",
              "3        fancy spanish female like medium-high price item\n",
              "4                    mid-age male love buying from search\n",
              "                               ...                       \n",
              "29115    fancy spanish female like medium-high price item\n",
              "29116                mid-age male love buying from search\n",
              "29117    fancy spanish female like medium-high price item\n",
              "29118    fancy spanish female like medium-high price item\n",
              "29119                mid-age male love buying from search\n",
              "Name: clusters, Length: 29120, dtype: object"
            ]
          },
          "metadata": {},
          "execution_count": 61
        }
      ]
    },
    {
      "cell_type": "code",
      "source": [],
      "metadata": {
        "id": "hHRj-wIjJQwg"
      },
      "execution_count": null,
      "outputs": []
    },
    {
      "cell_type": "code",
      "source": [],
      "metadata": {
        "id": "b69PLGuXJQyl"
      },
      "execution_count": null,
      "outputs": []
    },
    {
      "cell_type": "code",
      "source": [],
      "metadata": {
        "id": "N7k_wMT4JPVh"
      },
      "execution_count": null,
      "outputs": []
    },
    {
      "cell_type": "code",
      "source": [],
      "metadata": {
        "id": "7UPIyQ-IJPyJ"
      },
      "execution_count": null,
      "outputs": []
    }
  ]
}